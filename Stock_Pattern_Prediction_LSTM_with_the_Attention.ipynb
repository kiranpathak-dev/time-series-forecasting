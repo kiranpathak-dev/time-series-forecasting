{
  "nbformat": 4,
  "nbformat_minor": 0,
  "metadata": {
    "colab": {
      "provenance": [],
      "authorship_tag": "ABX9TyNXxn51wXgs4IIF1sPkcIIA",
      "include_colab_link": true
    },
    "kernelspec": {
      "name": "python3",
      "display_name": "Python 3"
    },
    "language_info": {
      "name": "python"
    }
  },
  "cells": [
    {
      "cell_type": "markdown",
      "metadata": {
        "id": "view-in-github",
        "colab_type": "text"
      },
      "source": [
        "<a href=\"https://colab.research.google.com/github/kiranpathak-dev/time-series-forecasting/blob/main/Stock_Pattern_Prediction_LSTM_with_the_Attention.ipynb\" target=\"_parent\"><img src=\"https://colab.research.google.com/assets/colab-badge.svg\" alt=\"Open In Colab\"/></a>"
      ]
    },
    {
      "cell_type": "markdown",
      "source": [
        "Lets delves into the intriguing world of LSTM networks paired with attention mechanisms, focusing on predicting the pattern of the next four candles in the stock price of Apple Inc. (AAPL), utilizing data from Yahoo Finance (yfinance)."
      ],
      "metadata": {
        "id": "9CqVxj4lkg7N"
      }
    },
    {
      "cell_type": "code",
      "execution_count": 1,
      "metadata": {
        "id": "Tf7VuHlTXOMw"
      },
      "outputs": [],
      "source": [
        "!pip install tensorflow -qqq\n",
        "!pip install keras -qqq\n",
        "!pip install yfinance -qqq"
      ]
    },
    {
      "cell_type": "code",
      "source": [
        "import tensorflow as tf\n",
        "import keras\n",
        "import yfinance as yf\n",
        "import numpy as np\n",
        "import pandas as pd\n",
        "import matplotlib.pyplot as plt\n",
        "\n",
        "# Check TensorFlow version\n",
        "print(\"TensorFlow Version: \", tf.__version__)"
      ],
      "metadata": {
        "colab": {
          "base_uri": "https://localhost:8080/"
        },
        "id": "ehzwDpWAXQUP",
        "outputId": "a6bd40bb-3b7b-4f8f-db03-6a3ecb5288a3"
      },
      "execution_count": 2,
      "outputs": [
        {
          "output_type": "stream",
          "name": "stdout",
          "text": [
            "TensorFlow Version:  2.15.0\n"
          ]
        }
      ]
    },
    {
      "cell_type": "markdown",
      "source": [
        "**Data Acquisition from yfinance**"
      ],
      "metadata": {
        "id": "OjsF4d1PXlJP"
      }
    },
    {
      "cell_type": "code",
      "source": [
        "# Fetch AAPL data\n",
        "aapl_data = yf.download('AAPL', start='2020-01-01', end='2024-01-01')\n",
        "\n",
        "# Display the first few rows of the dataframe\n",
        "aapl_data.head()"
      ],
      "metadata": {
        "colab": {
          "base_uri": "https://localhost:8080/",
          "height": 255
        },
        "id": "cb8NAruDXd7H",
        "outputId": "a943d742-4a4b-4033-829a-3bb08a8556ba"
      },
      "execution_count": 3,
      "outputs": [
        {
          "output_type": "stream",
          "name": "stderr",
          "text": [
            "\r[*********************100%%**********************]  1 of 1 completed\n"
          ]
        },
        {
          "output_type": "execute_result",
          "data": {
            "text/plain": [
              "                 Open       High        Low      Close  Adj Close     Volume\n",
              "Date                                                                        \n",
              "2020-01-02  74.059998  75.150002  73.797501  75.087502  73.059410  135480400\n",
              "2020-01-03  74.287498  75.144997  74.125000  74.357498  72.349136  146322800\n",
              "2020-01-06  73.447502  74.989998  73.187500  74.949997  72.925629  118387200\n",
              "2020-01-07  74.959999  75.224998  74.370003  74.597504  72.582664  108872000\n",
              "2020-01-08  74.290001  76.110001  74.290001  75.797501  73.750221  132079200"
            ],
            "text/html": [
              "\n",
              "  <div id=\"df-08c51d26-90af-4fbd-b329-aaafba673163\" class=\"colab-df-container\">\n",
              "    <div>\n",
              "<style scoped>\n",
              "    .dataframe tbody tr th:only-of-type {\n",
              "        vertical-align: middle;\n",
              "    }\n",
              "\n",
              "    .dataframe tbody tr th {\n",
              "        vertical-align: top;\n",
              "    }\n",
              "\n",
              "    .dataframe thead th {\n",
              "        text-align: right;\n",
              "    }\n",
              "</style>\n",
              "<table border=\"1\" class=\"dataframe\">\n",
              "  <thead>\n",
              "    <tr style=\"text-align: right;\">\n",
              "      <th></th>\n",
              "      <th>Open</th>\n",
              "      <th>High</th>\n",
              "      <th>Low</th>\n",
              "      <th>Close</th>\n",
              "      <th>Adj Close</th>\n",
              "      <th>Volume</th>\n",
              "    </tr>\n",
              "    <tr>\n",
              "      <th>Date</th>\n",
              "      <th></th>\n",
              "      <th></th>\n",
              "      <th></th>\n",
              "      <th></th>\n",
              "      <th></th>\n",
              "      <th></th>\n",
              "    </tr>\n",
              "  </thead>\n",
              "  <tbody>\n",
              "    <tr>\n",
              "      <th>2020-01-02</th>\n",
              "      <td>74.059998</td>\n",
              "      <td>75.150002</td>\n",
              "      <td>73.797501</td>\n",
              "      <td>75.087502</td>\n",
              "      <td>73.059410</td>\n",
              "      <td>135480400</td>\n",
              "    </tr>\n",
              "    <tr>\n",
              "      <th>2020-01-03</th>\n",
              "      <td>74.287498</td>\n",
              "      <td>75.144997</td>\n",
              "      <td>74.125000</td>\n",
              "      <td>74.357498</td>\n",
              "      <td>72.349136</td>\n",
              "      <td>146322800</td>\n",
              "    </tr>\n",
              "    <tr>\n",
              "      <th>2020-01-06</th>\n",
              "      <td>73.447502</td>\n",
              "      <td>74.989998</td>\n",
              "      <td>73.187500</td>\n",
              "      <td>74.949997</td>\n",
              "      <td>72.925629</td>\n",
              "      <td>118387200</td>\n",
              "    </tr>\n",
              "    <tr>\n",
              "      <th>2020-01-07</th>\n",
              "      <td>74.959999</td>\n",
              "      <td>75.224998</td>\n",
              "      <td>74.370003</td>\n",
              "      <td>74.597504</td>\n",
              "      <td>72.582664</td>\n",
              "      <td>108872000</td>\n",
              "    </tr>\n",
              "    <tr>\n",
              "      <th>2020-01-08</th>\n",
              "      <td>74.290001</td>\n",
              "      <td>76.110001</td>\n",
              "      <td>74.290001</td>\n",
              "      <td>75.797501</td>\n",
              "      <td>73.750221</td>\n",
              "      <td>132079200</td>\n",
              "    </tr>\n",
              "  </tbody>\n",
              "</table>\n",
              "</div>\n",
              "    <div class=\"colab-df-buttons\">\n",
              "\n",
              "  <div class=\"colab-df-container\">\n",
              "    <button class=\"colab-df-convert\" onclick=\"convertToInteractive('df-08c51d26-90af-4fbd-b329-aaafba673163')\"\n",
              "            title=\"Convert this dataframe to an interactive table.\"\n",
              "            style=\"display:none;\">\n",
              "\n",
              "  <svg xmlns=\"http://www.w3.org/2000/svg\" height=\"24px\" viewBox=\"0 -960 960 960\">\n",
              "    <path d=\"M120-120v-720h720v720H120Zm60-500h600v-160H180v160Zm220 220h160v-160H400v160Zm0 220h160v-160H400v160ZM180-400h160v-160H180v160Zm440 0h160v-160H620v160ZM180-180h160v-160H180v160Zm440 0h160v-160H620v160Z\"/>\n",
              "  </svg>\n",
              "    </button>\n",
              "\n",
              "  <style>\n",
              "    .colab-df-container {\n",
              "      display:flex;\n",
              "      gap: 12px;\n",
              "    }\n",
              "\n",
              "    .colab-df-convert {\n",
              "      background-color: #E8F0FE;\n",
              "      border: none;\n",
              "      border-radius: 50%;\n",
              "      cursor: pointer;\n",
              "      display: none;\n",
              "      fill: #1967D2;\n",
              "      height: 32px;\n",
              "      padding: 0 0 0 0;\n",
              "      width: 32px;\n",
              "    }\n",
              "\n",
              "    .colab-df-convert:hover {\n",
              "      background-color: #E2EBFA;\n",
              "      box-shadow: 0px 1px 2px rgba(60, 64, 67, 0.3), 0px 1px 3px 1px rgba(60, 64, 67, 0.15);\n",
              "      fill: #174EA6;\n",
              "    }\n",
              "\n",
              "    .colab-df-buttons div {\n",
              "      margin-bottom: 4px;\n",
              "    }\n",
              "\n",
              "    [theme=dark] .colab-df-convert {\n",
              "      background-color: #3B4455;\n",
              "      fill: #D2E3FC;\n",
              "    }\n",
              "\n",
              "    [theme=dark] .colab-df-convert:hover {\n",
              "      background-color: #434B5C;\n",
              "      box-shadow: 0px 1px 3px 1px rgba(0, 0, 0, 0.15);\n",
              "      filter: drop-shadow(0px 1px 2px rgba(0, 0, 0, 0.3));\n",
              "      fill: #FFFFFF;\n",
              "    }\n",
              "  </style>\n",
              "\n",
              "    <script>\n",
              "      const buttonEl =\n",
              "        document.querySelector('#df-08c51d26-90af-4fbd-b329-aaafba673163 button.colab-df-convert');\n",
              "      buttonEl.style.display =\n",
              "        google.colab.kernel.accessAllowed ? 'block' : 'none';\n",
              "\n",
              "      async function convertToInteractive(key) {\n",
              "        const element = document.querySelector('#df-08c51d26-90af-4fbd-b329-aaafba673163');\n",
              "        const dataTable =\n",
              "          await google.colab.kernel.invokeFunction('convertToInteractive',\n",
              "                                                    [key], {});\n",
              "        if (!dataTable) return;\n",
              "\n",
              "        const docLinkHtml = 'Like what you see? Visit the ' +\n",
              "          '<a target=\"_blank\" href=https://colab.research.google.com/notebooks/data_table.ipynb>data table notebook</a>'\n",
              "          + ' to learn more about interactive tables.';\n",
              "        element.innerHTML = '';\n",
              "        dataTable['output_type'] = 'display_data';\n",
              "        await google.colab.output.renderOutput(dataTable, element);\n",
              "        const docLink = document.createElement('div');\n",
              "        docLink.innerHTML = docLinkHtml;\n",
              "        element.appendChild(docLink);\n",
              "      }\n",
              "    </script>\n",
              "  </div>\n",
              "\n",
              "\n",
              "<div id=\"df-e9d1783e-6a60-423a-9dac-8cb1a1ff14e1\">\n",
              "  <button class=\"colab-df-quickchart\" onclick=\"quickchart('df-e9d1783e-6a60-423a-9dac-8cb1a1ff14e1')\"\n",
              "            title=\"Suggest charts\"\n",
              "            style=\"display:none;\">\n",
              "\n",
              "<svg xmlns=\"http://www.w3.org/2000/svg\" height=\"24px\"viewBox=\"0 0 24 24\"\n",
              "     width=\"24px\">\n",
              "    <g>\n",
              "        <path d=\"M19 3H5c-1.1 0-2 .9-2 2v14c0 1.1.9 2 2 2h14c1.1 0 2-.9 2-2V5c0-1.1-.9-2-2-2zM9 17H7v-7h2v7zm4 0h-2V7h2v10zm4 0h-2v-4h2v4z\"/>\n",
              "    </g>\n",
              "</svg>\n",
              "  </button>\n",
              "\n",
              "<style>\n",
              "  .colab-df-quickchart {\n",
              "      --bg-color: #E8F0FE;\n",
              "      --fill-color: #1967D2;\n",
              "      --hover-bg-color: #E2EBFA;\n",
              "      --hover-fill-color: #174EA6;\n",
              "      --disabled-fill-color: #AAA;\n",
              "      --disabled-bg-color: #DDD;\n",
              "  }\n",
              "\n",
              "  [theme=dark] .colab-df-quickchart {\n",
              "      --bg-color: #3B4455;\n",
              "      --fill-color: #D2E3FC;\n",
              "      --hover-bg-color: #434B5C;\n",
              "      --hover-fill-color: #FFFFFF;\n",
              "      --disabled-bg-color: #3B4455;\n",
              "      --disabled-fill-color: #666;\n",
              "  }\n",
              "\n",
              "  .colab-df-quickchart {\n",
              "    background-color: var(--bg-color);\n",
              "    border: none;\n",
              "    border-radius: 50%;\n",
              "    cursor: pointer;\n",
              "    display: none;\n",
              "    fill: var(--fill-color);\n",
              "    height: 32px;\n",
              "    padding: 0;\n",
              "    width: 32px;\n",
              "  }\n",
              "\n",
              "  .colab-df-quickchart:hover {\n",
              "    background-color: var(--hover-bg-color);\n",
              "    box-shadow: 0 1px 2px rgba(60, 64, 67, 0.3), 0 1px 3px 1px rgba(60, 64, 67, 0.15);\n",
              "    fill: var(--button-hover-fill-color);\n",
              "  }\n",
              "\n",
              "  .colab-df-quickchart-complete:disabled,\n",
              "  .colab-df-quickchart-complete:disabled:hover {\n",
              "    background-color: var(--disabled-bg-color);\n",
              "    fill: var(--disabled-fill-color);\n",
              "    box-shadow: none;\n",
              "  }\n",
              "\n",
              "  .colab-df-spinner {\n",
              "    border: 2px solid var(--fill-color);\n",
              "    border-color: transparent;\n",
              "    border-bottom-color: var(--fill-color);\n",
              "    animation:\n",
              "      spin 1s steps(1) infinite;\n",
              "  }\n",
              "\n",
              "  @keyframes spin {\n",
              "    0% {\n",
              "      border-color: transparent;\n",
              "      border-bottom-color: var(--fill-color);\n",
              "      border-left-color: var(--fill-color);\n",
              "    }\n",
              "    20% {\n",
              "      border-color: transparent;\n",
              "      border-left-color: var(--fill-color);\n",
              "      border-top-color: var(--fill-color);\n",
              "    }\n",
              "    30% {\n",
              "      border-color: transparent;\n",
              "      border-left-color: var(--fill-color);\n",
              "      border-top-color: var(--fill-color);\n",
              "      border-right-color: var(--fill-color);\n",
              "    }\n",
              "    40% {\n",
              "      border-color: transparent;\n",
              "      border-right-color: var(--fill-color);\n",
              "      border-top-color: var(--fill-color);\n",
              "    }\n",
              "    60% {\n",
              "      border-color: transparent;\n",
              "      border-right-color: var(--fill-color);\n",
              "    }\n",
              "    80% {\n",
              "      border-color: transparent;\n",
              "      border-right-color: var(--fill-color);\n",
              "      border-bottom-color: var(--fill-color);\n",
              "    }\n",
              "    90% {\n",
              "      border-color: transparent;\n",
              "      border-bottom-color: var(--fill-color);\n",
              "    }\n",
              "  }\n",
              "</style>\n",
              "\n",
              "  <script>\n",
              "    async function quickchart(key) {\n",
              "      const quickchartButtonEl =\n",
              "        document.querySelector('#' + key + ' button');\n",
              "      quickchartButtonEl.disabled = true;  // To prevent multiple clicks.\n",
              "      quickchartButtonEl.classList.add('colab-df-spinner');\n",
              "      try {\n",
              "        const charts = await google.colab.kernel.invokeFunction(\n",
              "            'suggestCharts', [key], {});\n",
              "      } catch (error) {\n",
              "        console.error('Error during call to suggestCharts:', error);\n",
              "      }\n",
              "      quickchartButtonEl.classList.remove('colab-df-spinner');\n",
              "      quickchartButtonEl.classList.add('colab-df-quickchart-complete');\n",
              "    }\n",
              "    (() => {\n",
              "      let quickchartButtonEl =\n",
              "        document.querySelector('#df-e9d1783e-6a60-423a-9dac-8cb1a1ff14e1 button');\n",
              "      quickchartButtonEl.style.display =\n",
              "        google.colab.kernel.accessAllowed ? 'block' : 'none';\n",
              "    })();\n",
              "  </script>\n",
              "</div>\n",
              "\n",
              "    </div>\n",
              "  </div>\n"
            ],
            "application/vnd.google.colaboratory.intrinsic+json": {
              "type": "dataframe",
              "variable_name": "aapl_data",
              "summary": "{\n  \"name\": \"aapl_data\",\n  \"rows\": 1006,\n  \"fields\": [\n    {\n      \"column\": \"Date\",\n      \"properties\": {\n        \"dtype\": \"date\",\n        \"min\": \"2020-01-02 00:00:00\",\n        \"max\": \"2023-12-29 00:00:00\",\n        \"num_unique_values\": 1006,\n        \"samples\": [\n          \"2023-09-08 00:00:00\",\n          \"2022-07-05 00:00:00\",\n          \"2022-09-16 00:00:00\"\n        ],\n        \"semantic_type\": \"\",\n        \"description\": \"\"\n      }\n    },\n    {\n      \"column\": \"Open\",\n      \"properties\": {\n        \"dtype\": \"number\",\n        \"std\": 33.31001776940112,\n        \"min\": 57.02000045776367,\n        \"max\": 198.02000427246094,\n        \"num_unique_values\": 956,\n        \"samples\": [\n          127.81999969482422,\n          179.47999572753906,\n          170.97000122070312\n        ],\n        \"semantic_type\": \"\",\n        \"description\": \"\"\n      }\n    },\n    {\n      \"column\": \"High\",\n      \"properties\": {\n        \"dtype\": \"number\",\n        \"std\": 33.43057053182057,\n        \"min\": 57.125,\n        \"max\": 199.6199951171875,\n        \"num_unique_values\": 956,\n        \"samples\": [\n          128.32000732421875,\n          179.69000244140625,\n          172.9499969482422\n        ],\n        \"semantic_type\": \"\",\n        \"description\": \"\"\n      }\n    },\n    {\n      \"column\": \"Low\",\n      \"properties\": {\n        \"dtype\": \"number\",\n        \"std\": 33.17919879094591,\n        \"min\": 53.15250015258789,\n        \"max\": 197.0,\n        \"num_unique_values\": 963,\n        \"samples\": [\n          162.42999267578125,\n          125.94000244140625,\n          126.20999908447266\n        ],\n        \"semantic_type\": \"\",\n        \"description\": \"\"\n      }\n    },\n    {\n      \"column\": \"Close\",\n      \"properties\": {\n        \"dtype\": \"number\",\n        \"std\": 33.31385702299744,\n        \"min\": 56.092498779296875,\n        \"max\": 198.11000061035156,\n        \"num_unique_values\": 956,\n        \"samples\": [\n          124.8499984741211,\n          178.19000244140625,\n          168.8800048828125\n        ],\n        \"semantic_type\": \"\",\n        \"description\": \"\"\n      }\n    },\n    {\n      \"column\": \"Adj Close\",\n      \"properties\": {\n        \"dtype\": \"number\",\n        \"std\": 33.66141443230789,\n        \"min\": 54.706993103027344,\n        \"max\": 197.85752868652344,\n        \"num_unique_values\": 994,\n        \"samples\": [\n          173.75906372070312,\n          174.2882843017578,\n          165.7656707763672\n        ],\n        \"semantic_type\": \"\",\n        \"description\": \"\"\n      }\n    },\n    {\n      \"column\": \"Volume\",\n      \"properties\": {\n        \"dtype\": \"number\",\n        \"std\": 54396526,\n        \"min\": 24048300,\n        \"max\": 426510000,\n        \"num_unique_values\": 1004,\n        \"samples\": [\n          58953100,\n          74064300,\n          81474200\n        ],\n        \"semantic_type\": \"\",\n        \"description\": \"\"\n      }\n    }\n  ]\n}"
            }
          },
          "metadata": {},
          "execution_count": 3
        }
      ]
    },
    {
      "cell_type": "markdown",
      "source": [
        "# Data Preprocessing and Preparation"
      ],
      "metadata": {
        "id": "VvBcRMEhYK7O"
      }
    },
    {
      "cell_type": "markdown",
      "source": [
        "**Data Cleaning**\n",
        "\n",
        "Stock market datasets often contain anomalies or missing values. It’s vital to handle these to prevent inaccuracies in predictions.\n",
        "* Identifying Missing Values: Check for any missing data in the dataset. If there are any, you can choose to either fill them using a method like forward-fill or backward-fill or remove those rows entirely.\n",
        "* Handling Anomalies: Sometimes, datasets contain erroneous values due to glitches in data collection. If you spot any anomalies (like extreme spikes in stock prices that are unrealistic), they should be corrected or removed.\n",
        "\n",
        "\n",
        "\n"
      ],
      "metadata": {
        "id": "2sApvxVSYS3g"
      }
    },
    {
      "cell_type": "code",
      "source": [
        "# Checking for missing values\n",
        "aapl_data.isnull().sum()\n",
        "\n",
        "# Filling missing values, if any\n",
        "aapl_data.fillna(method='ffill', inplace=True)"
      ],
      "metadata": {
        "id": "cu8CJWH_XumG"
      },
      "execution_count": 4,
      "outputs": []
    },
    {
      "cell_type": "markdown",
      "source": [
        "**Feature Selection**\n",
        "\n",
        "In stock market data, various features can be influential. Typically, ‘Open’, ‘High’, ‘Low’, ‘Close’, and ‘Volume’ are used.\n",
        "\n",
        "Deciding Features: For our model, we’ll use ‘Close’ prices, but you can experiment with additional features like ‘Open’, ‘High’, ‘Low’, and ‘Volume’."
      ],
      "metadata": {
        "id": "xG3JydCQYuAU"
      }
    },
    {
      "cell_type": "markdown",
      "source": [
        "**Normalization**\n",
        "Normalization is a technique used to change the values of numeric columns in the dataset to a common scale, without distorting differences in the ranges of values.\n",
        "* Applying Min-Max Scaling: This scales the dataset so that all the input features lie between 0 and 1."
      ],
      "metadata": {
        "id": "fqkFBcQDY7kN"
      }
    },
    {
      "cell_type": "code",
      "source": [
        "from sklearn.preprocessing import MinMaxScaler\n",
        "\n",
        "scaler = MinMaxScaler(feature_range=(0,1))\n",
        "aapl_data_scaled = scaler.fit_transform(aapl_data['Close'].values.reshape(-1,1))"
      ],
      "metadata": {
        "id": "A4m3XrB7YYsu"
      },
      "execution_count": 5,
      "outputs": []
    },
    {
      "cell_type": "markdown",
      "source": [
        "**Creating Sequences**\n",
        "\n",
        "LSTM models require input to be in a sequence format. We transform the data into sequences for the model to learn from.\n",
        "\n",
        "* Defining Sequence Length: Choose a sequence length (like 60 days). This means, for every sample, the model will look at the last 60 days of data to make a prediction."
      ],
      "metadata": {
        "id": "U_MG9uywZoMC"
      }
    },
    {
      "cell_type": "code",
      "source": [
        "X = []\n",
        "y = []\n",
        "\n",
        "for i in range(60, len(aapl_data_scaled)):\n",
        "    X.append(aapl_data_scaled[i-60:i, 0])\n",
        "    y.append(aapl_data_scaled[i, 0])"
      ],
      "metadata": {
        "id": "FcGjqzhTZFa2"
      },
      "execution_count": 6,
      "outputs": []
    },
    {
      "cell_type": "markdown",
      "source": [
        "**Train-Test Split**\n",
        "\n",
        "Split the data into training and testing sets to evaluate the model’s performance properly.\n",
        "\n",
        "* Defining Split Ratio: Typically, 80% of data is used for training and 20% for testing."
      ],
      "metadata": {
        "id": "4oPXPzWfauuL"
      }
    },
    {
      "cell_type": "code",
      "source": [
        "train_size = int(len(X) * 0.8)\n",
        "test_size = len(X) - train_size\n",
        "\n",
        "X_train, X_test = X[:train_size], X[train_size:]\n",
        "y_train, y_test = y[:train_size], y[train_size:]"
      ],
      "metadata": {
        "id": "wI_qlzgXauaI"
      },
      "execution_count": 8,
      "outputs": []
    },
    {
      "cell_type": "markdown",
      "source": [
        "**Reshaping Data for LSTM**"
      ],
      "metadata": {
        "id": "9TjHT93ea8k2"
      }
    },
    {
      "cell_type": "markdown",
      "source": [
        "Finally, we need to reshape our data into a 3D format `[samples, time steps, features]` required by LSTM layers."
      ],
      "metadata": {
        "id": "e2XhdF07bDWB"
      }
    },
    {
      "cell_type": "code",
      "source": [
        "X_train, y_train = np.array(X_train), np.array(y_train)\n",
        "X_train = np.reshape(X_train, (X_train.shape[0], X_train.shape[1], 1))"
      ],
      "metadata": {
        "id": "AkNS478va8Xa"
      },
      "execution_count": 9,
      "outputs": []
    },
    {
      "cell_type": "markdown",
      "source": [
        "# Building the LSTM with Attention Model"
      ],
      "metadata": {
        "id": "TxoR0Eglbejj"
      }
    },
    {
      "cell_type": "markdown",
      "source": [
        "**Creating LSTM Layers**\n",
        "\n",
        "Our LSTM model will consist of several layers, including LSTM layers for processing the time-series data. The basic structure is as follows:"
      ],
      "metadata": {
        "id": "ioq3Kq4Bbjcz"
      }
    },
    {
      "cell_type": "code",
      "source": [
        "from keras.models import Sequential\n",
        "from keras.layers import LSTM, Dense, Dropout\n",
        "\n",
        "model = Sequential()\n",
        "\n",
        "# Adding LSTM layers\n",
        "model.add(LSTM(units=50, return_sequences=True, input_shape=(X_train.shape[1], 1)))\n",
        "model.add(LSTM(units=50, return_sequences=True))\n",
        "model.add(LSTM(units=50, return_sequences=False))  # Only the last time step\n",
        "\n",
        "# Adding a Dense layer to match the output shape with y_train\n",
        "model.add(Dense(1))\n",
        "\n",
        "# Compiling the model\n",
        "model.compile(optimizer='adam', loss='mean_squared_error')\n",
        "\n",
        "# Training the model\n",
        "history = model.fit(X_train, y_train, epochs=100, batch_size=25, validation_split=0.2)"
      ],
      "metadata": {
        "collapsed": true,
        "id": "0gNYH3XpZ9d1"
      },
      "execution_count": null,
      "outputs": []
    },
    {
      "cell_type": "markdown",
      "source": [
        "In this model, units represent the number of neurons in each LSTM layer. return_sequences=True is crucial in the first layers to ensure the output includes sequences, which are essential for stacking LSTM layers. The final LSTM layer does not return sequences as we prepare the data for the attention layer."
      ],
      "metadata": {
        "id": "9LMFpMhwb7m3"
      }
    },
    {
      "cell_type": "markdown",
      "source": [
        "**Integrating the Attention Mechanism**"
      ],
      "metadata": {
        "id": "UXg5Zkazb9ki"
      }
    },
    {
      "cell_type": "markdown",
      "source": [
        "The attention mechanism can be added to enhance the model’s ability to focus on relevant time steps:"
      ],
      "metadata": {
        "id": "brHm8bnbcBhi"
      }
    },
    {
      "cell_type": "code",
      "source": [
        "from keras.models import Sequential\n",
        "from keras.layers import LSTM, Dense, Dropout, AdditiveAttention, Permute, Reshape, Multiply\n",
        "\n",
        "model = Sequential()\n",
        "\n",
        "# Adding LSTM layers with return_sequences=True\n",
        "model.add(LSTM(units=50, return_sequences=True, input_shape=(X_train.shape[1], 1)))\n",
        "model.add(LSTM(units=50, return_sequences=True))\n",
        "\n",
        "# Adding self-attention mechanism\n",
        "\n",
        "# The attention mechanism\n",
        "attention = AdditiveAttention(name='attention_weight')\n",
        "\n",
        "# Permute and reshape for compatibility\n",
        "model.add(Permute((2, 1)))\n",
        "model.add(Reshape((-1, X_train.shape[1])))\n",
        "attention_result = attention([model.output, model.output])\n",
        "multiply_layer = Multiply()([model.output, attention_result])\n",
        "\n",
        "# Return to original shape\n",
        "model.add(Permute((2, 1)))\n",
        "model.add(Reshape((-1, 50)))\n",
        "\n",
        "# Adding a Flatten layer before the final Dense layer\n",
        "model.add(tf.keras.layers.Flatten())\n",
        "\n",
        "# Final Dense layer\n",
        "model.add(Dense(1))\n",
        "\n",
        "# Compile the model\n",
        "model.compile(optimizer='adam', loss='mean_squared_error')\n",
        "\n",
        "# Train the model\n",
        "history = model.fit(X_train, y_train, epochs=100, batch_size=25, validation_split=0.2)"
      ],
      "metadata": {
        "id": "X2vG__z8Z-I8"
      },
      "execution_count": null,
      "outputs": []
    },
    {
      "cell_type": "markdown",
      "source": [
        "> This custom layer computes a weighted sum of the input sequence, allowing the model to pay more attention to certain time steps."
      ],
      "metadata": {
        "id": "_kLknBqWdPew"
      }
    },
    {
      "cell_type": "markdown",
      "source": [
        "# Optimizing the Model\n",
        "\n",
        "To enhance the model’s performance and reduce the risk of overfitting, we include Dropout and Batch Normalization."
      ],
      "metadata": {
        "id": "krnnOFdPdg6V"
      }
    },
    {
      "cell_type": "code",
      "source": [
        "from keras.layers import BatchNormalization\n",
        "\n",
        "# Adding Dropout and Batch Normalization\n",
        "model.add(Dropout(0.2))\n",
        "model.add(BatchNormalization())"
      ],
      "metadata": {
        "id": "g8zyOWLmdaUP"
      },
      "execution_count": 15,
      "outputs": []
    },
    {
      "cell_type": "markdown",
      "source": [
        "> Dropout helps in preventing overfitting by randomly setting a fraction of the input units to 0 at each update during training, and Batch Normalization stabilizes the learning process."
      ],
      "metadata": {
        "id": "sWj9X3D7dtSB"
      }
    },
    {
      "cell_type": "markdown",
      "source": [
        "# Model Compilation\n",
        "Finally, we compile the model with an optimizer and loss function suited for our regression task."
      ],
      "metadata": {
        "id": "pOq93njKd4la"
      }
    },
    {
      "cell_type": "code",
      "source": [
        "model.compile(optimizer='adam', loss='mean_squared_error')"
      ],
      "metadata": {
        "id": "dKdd9M-tdQg6"
      },
      "execution_count": 16,
      "outputs": []
    },
    {
      "cell_type": "markdown",
      "source": [
        "`adam` optimizer is generally a good choice for recurrent neural networks, and mean squared error works well as a loss function for regression tasks like ours."
      ],
      "metadata": {
        "id": "cr-FrrTveEHx"
      }
    },
    {
      "cell_type": "markdown",
      "source": [
        "# Model Summary\n",
        "\n",
        "It’s beneficial to view the summary of the model to understand its structure and number of parameters."
      ],
      "metadata": {
        "id": "p_gq2L2aeHOs"
      }
    },
    {
      "cell_type": "code",
      "source": [
        "model.summary()"
      ],
      "metadata": {
        "colab": {
          "base_uri": "https://localhost:8080/"
        },
        "id": "XFXtoPX3eBCb",
        "outputId": "2c432f55-b381-4332-9dd0-90c1e2076f1a"
      },
      "execution_count": 17,
      "outputs": [
        {
          "output_type": "stream",
          "name": "stdout",
          "text": [
            "Model: \"sequential_2\"\n",
            "_________________________________________________________________\n",
            " Layer (type)                Output Shape              Param #   \n",
            "=================================================================\n",
            " lstm_5 (LSTM)               (None, 60, 50)            10400     \n",
            "                                                                 \n",
            " lstm_6 (LSTM)               (None, 60, 50)            20200     \n",
            "                                                                 \n",
            " permute (Permute)           (None, 50, 60)            0         \n",
            "                                                                 \n",
            " reshape (Reshape)           (None, 50, 60)            0         \n",
            "                                                                 \n",
            " permute_1 (Permute)         (None, 60, 50)            0         \n",
            "                                                                 \n",
            " reshape_1 (Reshape)         (None, 60, 50)            0         \n",
            "                                                                 \n",
            " flatten (Flatten)           (None, 3000)              0         \n",
            "                                                                 \n",
            " dense_1 (Dense)             (None, 1)                 3001      \n",
            "                                                                 \n",
            " dropout (Dropout)           (None, 1)                 0         \n",
            "                                                                 \n",
            " batch_normalization (Batch  (None, 1)                 4         \n",
            " Normalization)                                                  \n",
            "                                                                 \n",
            "=================================================================\n",
            "Total params: 33605 (131.27 KB)\n",
            "Trainable params: 33603 (131.26 KB)\n",
            "Non-trainable params: 2 (8.00 Byte)\n",
            "_________________________________________________________________\n"
          ]
        }
      ]
    },
    {
      "cell_type": "markdown",
      "source": [
        "# Training the Model\n",
        "\n",
        "Now that our LSTM model with attention is built, it’s time to train it using our prepared training set. This process involves feeding the training data to the model and letting it learn to make predictions."
      ],
      "metadata": {
        "id": "Hz6wE75pesdi"
      }
    },
    {
      "cell_type": "markdown",
      "source": [
        "**Training Code**\n",
        "\n",
        "Use the following code to train your model with X_train and y_train:"
      ],
      "metadata": {
        "id": "Sl2cTd6CfBBy"
      }
    },
    {
      "cell_type": "code",
      "source": [
        "# Assuming X_train and y_train are already defined and preprocessed\n",
        "history = model.fit(X_train, y_train, epochs=100, batch_size=25, validation_split=0.2)"
      ],
      "metadata": {
        "colab": {
          "base_uri": "https://localhost:8080/"
        },
        "id": "DlgvRFhgeoee",
        "outputId": "ae2177c0-a029-4e23-9e90-12fb9f085a6f"
      },
      "execution_count": 18,
      "outputs": [
        {
          "output_type": "stream",
          "name": "stdout",
          "text": [
            "Epoch 1/100\n",
            "25/25 [==============================] - 9s 119ms/step - loss: 0.8912 - val_loss: 0.4085\n",
            "Epoch 2/100\n",
            "25/25 [==============================] - 1s 58ms/step - loss: 0.4212 - val_loss: 0.3806\n",
            "Epoch 3/100\n",
            "25/25 [==============================] - 1s 57ms/step - loss: 0.2793 - val_loss: 0.3354\n",
            "Epoch 4/100\n",
            "25/25 [==============================] - 1s 55ms/step - loss: 0.2392 - val_loss: 0.3024\n",
            "Epoch 5/100\n",
            "25/25 [==============================] - 1s 57ms/step - loss: 0.2133 - val_loss: 0.2690\n",
            "Epoch 6/100\n",
            "25/25 [==============================] - 1s 59ms/step - loss: 0.1902 - val_loss: 0.2668\n",
            "Epoch 7/100\n",
            "25/25 [==============================] - 2s 70ms/step - loss: 0.1754 - val_loss: 0.2414\n",
            "Epoch 8/100\n",
            "25/25 [==============================] - 2s 87ms/step - loss: 0.1537 - val_loss: 0.2043\n",
            "Epoch 9/100\n",
            "25/25 [==============================] - 1s 57ms/step - loss: 0.1366 - val_loss: 0.1991\n",
            "Epoch 10/100\n",
            "25/25 [==============================] - 1s 58ms/step - loss: 0.1250 - val_loss: 0.1808\n",
            "Epoch 11/100\n",
            "25/25 [==============================] - 2s 77ms/step - loss: 0.1106 - val_loss: 0.1734\n",
            "Epoch 12/100\n",
            "25/25 [==============================] - 2s 77ms/step - loss: 0.1016 - val_loss: 0.1433\n",
            "Epoch 13/100\n",
            "25/25 [==============================] - 1s 57ms/step - loss: 0.0885 - val_loss: 0.1279\n",
            "Epoch 14/100\n",
            "25/25 [==============================] - 2s 76ms/step - loss: 0.0792 - val_loss: 0.1276\n",
            "Epoch 15/100\n",
            "25/25 [==============================] - 3s 123ms/step - loss: 0.0699 - val_loss: 0.1050\n",
            "Epoch 16/100\n",
            "25/25 [==============================] - 1s 59ms/step - loss: 0.0654 - val_loss: 0.0948\n",
            "Epoch 17/100\n",
            "25/25 [==============================] - 1s 57ms/step - loss: 0.0539 - val_loss: 0.0866\n",
            "Epoch 18/100\n",
            "25/25 [==============================] - 1s 58ms/step - loss: 0.0530 - val_loss: 0.0699\n",
            "Epoch 19/100\n",
            "25/25 [==============================] - 2s 60ms/step - loss: 0.0454 - val_loss: 0.0882\n",
            "Epoch 20/100\n",
            "25/25 [==============================] - 1s 56ms/step - loss: 0.0410 - val_loss: 0.0638\n",
            "Epoch 21/100\n",
            "25/25 [==============================] - 1s 56ms/step - loss: 0.0357 - val_loss: 0.0448\n",
            "Epoch 22/100\n",
            "25/25 [==============================] - 2s 65ms/step - loss: 0.0324 - val_loss: 0.0375\n",
            "Epoch 23/100\n",
            "25/25 [==============================] - 2s 91ms/step - loss: 0.0281 - val_loss: 0.0240\n",
            "Epoch 24/100\n",
            "25/25 [==============================] - 1s 56ms/step - loss: 0.0249 - val_loss: 0.0223\n",
            "Epoch 25/100\n",
            "25/25 [==============================] - 1s 57ms/step - loss: 0.0253 - val_loss: 0.0176\n",
            "Epoch 26/100\n",
            "25/25 [==============================] - 1s 58ms/step - loss: 0.0200 - val_loss: 0.0128\n",
            "Epoch 27/100\n",
            "25/25 [==============================] - 1s 56ms/step - loss: 0.0239 - val_loss: 0.0158\n",
            "Epoch 28/100\n",
            "25/25 [==============================] - 1s 58ms/step - loss: 0.0193 - val_loss: 0.0053\n",
            "Epoch 29/100\n",
            "25/25 [==============================] - 1s 59ms/step - loss: 0.0209 - val_loss: 0.0060\n",
            "Epoch 30/100\n",
            "25/25 [==============================] - 1s 58ms/step - loss: 0.0197 - val_loss: 0.0304\n",
            "Epoch 31/100\n",
            "25/25 [==============================] - 3s 118ms/step - loss: 0.0159 - val_loss: 0.0083\n",
            "Epoch 32/100\n",
            "25/25 [==============================] - 2s 72ms/step - loss: 0.0159 - val_loss: 0.0011\n",
            "Epoch 33/100\n",
            "25/25 [==============================] - 1s 58ms/step - loss: 0.0146 - val_loss: 0.0029\n",
            "Epoch 34/100\n",
            "25/25 [==============================] - 1s 57ms/step - loss: 0.0129 - val_loss: 0.0097\n",
            "Epoch 35/100\n",
            "25/25 [==============================] - 2s 91ms/step - loss: 0.0114 - val_loss: 0.0092\n",
            "Epoch 36/100\n",
            "25/25 [==============================] - 1s 57ms/step - loss: 0.0099 - val_loss: 0.0017\n",
            "Epoch 37/100\n",
            "25/25 [==============================] - 2s 75ms/step - loss: 0.0141 - val_loss: 7.9292e-04\n",
            "Epoch 38/100\n",
            "25/25 [==============================] - 3s 139ms/step - loss: 0.0123 - val_loss: 0.0045\n",
            "Epoch 39/100\n",
            "25/25 [==============================] - 1s 55ms/step - loss: 0.0143 - val_loss: 0.0011\n",
            "Epoch 40/100\n",
            "25/25 [==============================] - 1s 56ms/step - loss: 0.0140 - val_loss: 0.0014\n",
            "Epoch 41/100\n",
            "25/25 [==============================] - 1s 60ms/step - loss: 0.0104 - val_loss: 0.0018\n",
            "Epoch 42/100\n",
            "25/25 [==============================] - 2s 88ms/step - loss: 0.0089 - val_loss: 0.0025\n",
            "Epoch 43/100\n",
            "25/25 [==============================] - 1s 57ms/step - loss: 0.0109 - val_loss: 0.0100\n",
            "Epoch 44/100\n",
            "25/25 [==============================] - 2s 98ms/step - loss: 0.0092 - val_loss: 7.8656e-04\n",
            "Epoch 45/100\n",
            "25/25 [==============================] - 2s 92ms/step - loss: 0.0099 - val_loss: 8.8517e-04\n",
            "Epoch 46/100\n",
            "25/25 [==============================] - 1s 57ms/step - loss: 0.0096 - val_loss: 0.0037\n",
            "Epoch 47/100\n",
            "25/25 [==============================] - 1s 57ms/step - loss: 0.0074 - val_loss: 0.0103\n",
            "Epoch 48/100\n",
            "25/25 [==============================] - 2s 80ms/step - loss: 0.0112 - val_loss: 7.2307e-04\n",
            "Epoch 49/100\n",
            "25/25 [==============================] - 2s 77ms/step - loss: 0.0109 - val_loss: 0.0123\n",
            "Epoch 50/100\n",
            "25/25 [==============================] - 1s 57ms/step - loss: 0.0132 - val_loss: 0.0434\n",
            "Epoch 51/100\n",
            "25/25 [==============================] - 2s 63ms/step - loss: 0.0113 - val_loss: 7.5244e-04\n",
            "Epoch 52/100\n",
            "25/25 [==============================] - 2s 94ms/step - loss: 0.0103 - val_loss: 0.0139\n",
            "Epoch 53/100\n",
            "25/25 [==============================] - 2s 69ms/step - loss: 0.0092 - val_loss: 0.0050\n",
            "Epoch 54/100\n",
            "25/25 [==============================] - 1s 58ms/step - loss: 0.0106 - val_loss: 6.4832e-04\n",
            "Epoch 55/100\n",
            "25/25 [==============================] - 1s 59ms/step - loss: 0.0090 - val_loss: 8.1738e-04\n",
            "Epoch 56/100\n",
            "25/25 [==============================] - 1s 58ms/step - loss: 0.0077 - val_loss: 8.1655e-04\n",
            "Epoch 57/100\n",
            "25/25 [==============================] - 1s 58ms/step - loss: 0.0086 - val_loss: 0.0035\n",
            "Epoch 58/100\n",
            "25/25 [==============================] - 2s 61ms/step - loss: 0.0100 - val_loss: 0.0190\n",
            "Epoch 59/100\n",
            "25/25 [==============================] - 1s 58ms/step - loss: 0.0075 - val_loss: 0.0045\n",
            "Epoch 60/100\n",
            "25/25 [==============================] - 2s 92ms/step - loss: 0.0086 - val_loss: 0.0015\n",
            "Epoch 61/100\n",
            "25/25 [==============================] - 2s 67ms/step - loss: 0.0094 - val_loss: 0.0010\n",
            "Epoch 62/100\n",
            "25/25 [==============================] - 1s 59ms/step - loss: 0.0097 - val_loss: 0.0024\n",
            "Epoch 63/100\n",
            "25/25 [==============================] - 2s 87ms/step - loss: 0.0108 - val_loss: 0.0021\n",
            "Epoch 64/100\n",
            "25/25 [==============================] - 2s 88ms/step - loss: 0.0103 - val_loss: 0.0170\n",
            "Epoch 65/100\n",
            "25/25 [==============================] - 1s 58ms/step - loss: 0.0115 - val_loss: 0.0053\n",
            "Epoch 66/100\n",
            "25/25 [==============================] - 1s 57ms/step - loss: 0.0076 - val_loss: 0.0011\n",
            "Epoch 67/100\n",
            "25/25 [==============================] - 3s 143ms/step - loss: 0.0108 - val_loss: 8.0622e-04\n",
            "Epoch 68/100\n",
            "25/25 [==============================] - 1s 58ms/step - loss: 0.0091 - val_loss: 0.0037\n",
            "Epoch 69/100\n",
            "25/25 [==============================] - 1s 57ms/step - loss: 0.0104 - val_loss: 0.0032\n",
            "Epoch 70/100\n",
            "25/25 [==============================] - 2s 86ms/step - loss: 0.0100 - val_loss: 0.0031\n",
            "Epoch 71/100\n",
            "25/25 [==============================] - 1s 60ms/step - loss: 0.0113 - val_loss: 8.6176e-04\n",
            "Epoch 72/100\n",
            "25/25 [==============================] - 1s 59ms/step - loss: 0.0076 - val_loss: 6.8065e-04\n",
            "Epoch 73/100\n",
            "25/25 [==============================] - 1s 58ms/step - loss: 0.0123 - val_loss: 0.0054\n",
            "Epoch 74/100\n",
            "25/25 [==============================] - 2s 82ms/step - loss: 0.0116 - val_loss: 9.2568e-04\n",
            "Epoch 75/100\n",
            "25/25 [==============================] - 2s 80ms/step - loss: 0.0128 - val_loss: 0.0031\n",
            "Epoch 76/100\n",
            "25/25 [==============================] - 1s 58ms/step - loss: 0.0111 - val_loss: 0.0071\n",
            "Epoch 77/100\n",
            "25/25 [==============================] - 1s 57ms/step - loss: 0.0111 - val_loss: 0.0032\n",
            "Epoch 78/100\n",
            "25/25 [==============================] - 1s 57ms/step - loss: 0.0129 - val_loss: 0.0075\n",
            "Epoch 79/100\n",
            "25/25 [==============================] - 1s 58ms/step - loss: 0.0093 - val_loss: 0.0026\n",
            "Epoch 80/100\n",
            "25/25 [==============================] - 1s 59ms/step - loss: 0.0110 - val_loss: 0.0010\n",
            "Epoch 81/100\n",
            "25/25 [==============================] - 1s 59ms/step - loss: 0.0109 - val_loss: 0.0034\n",
            "Epoch 82/100\n",
            "25/25 [==============================] - 2s 79ms/step - loss: 0.0086 - val_loss: 0.0017\n",
            "Epoch 83/100\n",
            "25/25 [==============================] - 2s 84ms/step - loss: 0.0093 - val_loss: 0.0011\n",
            "Epoch 84/100\n",
            "25/25 [==============================] - 1s 60ms/step - loss: 0.0108 - val_loss: 0.0095\n",
            "Epoch 85/100\n",
            "25/25 [==============================] - 1s 55ms/step - loss: 0.0097 - val_loss: 0.0026\n",
            "Epoch 86/100\n",
            "25/25 [==============================] - 1s 56ms/step - loss: 0.0104 - val_loss: 9.2083e-04\n",
            "Epoch 87/100\n",
            "25/25 [==============================] - 1s 57ms/step - loss: 0.0104 - val_loss: 0.0028\n",
            "Epoch 88/100\n",
            "25/25 [==============================] - 2s 60ms/step - loss: 0.0102 - val_loss: 0.0039\n",
            "Epoch 89/100\n",
            "25/25 [==============================] - 1s 60ms/step - loss: 0.0103 - val_loss: 0.0016\n",
            "Epoch 90/100\n",
            "25/25 [==============================] - 2s 81ms/step - loss: 0.0103 - val_loss: 0.0310\n",
            "Epoch 91/100\n",
            "25/25 [==============================] - 3s 108ms/step - loss: 0.0111 - val_loss: 0.0197\n",
            "Epoch 92/100\n",
            "25/25 [==============================] - 2s 78ms/step - loss: 0.0106 - val_loss: 0.0028\n",
            "Epoch 93/100\n",
            "25/25 [==============================] - 1s 59ms/step - loss: 0.0079 - val_loss: 0.0013\n",
            "Epoch 94/100\n",
            "25/25 [==============================] - 1s 56ms/step - loss: 0.0076 - val_loss: 5.7166e-04\n",
            "Epoch 95/100\n",
            "25/25 [==============================] - 1s 56ms/step - loss: 0.0097 - val_loss: 0.0033\n",
            "Epoch 96/100\n",
            "25/25 [==============================] - 1s 60ms/step - loss: 0.0109 - val_loss: 0.0024\n",
            "Epoch 97/100\n",
            "25/25 [==============================] - 1s 59ms/step - loss: 0.0088 - val_loss: 0.0030\n",
            "Epoch 98/100\n",
            "25/25 [==============================] - 2s 92ms/step - loss: 0.0092 - val_loss: 8.8580e-04\n",
            "Epoch 99/100\n",
            "25/25 [==============================] - 2s 71ms/step - loss: 0.0103 - val_loss: 0.0097\n",
            "Epoch 100/100\n",
            "25/25 [==============================] - 1s 56ms/step - loss: 0.0097 - val_loss: 0.0024\n"
          ]
        }
      ]
    },
    {
      "cell_type": "markdown",
      "source": [
        "Here, we train the model for 100 epochs with a batch size of 25. The validation_split parameter reserves a portion of the training data for validation, allowing us to monitor the model's performance on unseen data during training."
      ],
      "metadata": {
        "id": "mREcdsL7fKqJ"
      }
    },
    {
      "cell_type": "markdown",
      "source": [
        "**Overfitting and How to Avoid It**\n",
        "\n",
        "Overfitting occurs when a model learns patterns specific to the training data, which do not generalize to new data. Here are ways to avoid overfitting:\n",
        "\n",
        "* Validation Set: Using a validation set (as we did in the training code) helps in monitoring the model’s performance on unseen data.\n",
        "* Early Stopping: This technique stops training when the model’s performance on the validation set starts to degrade. Implementing early stopping in Keras is straightforward:"
      ],
      "metadata": {
        "id": "fylLi2zyfSrl"
      }
    },
    {
      "cell_type": "code",
      "source": [
        "from keras.callbacks import EarlyStopping\n",
        "\n",
        "early_stopping = EarlyStopping(monitor='val_loss', patience=10)\n",
        "history = model.fit(X_train, y_train, epochs=100, batch_size=25, validation_split=0.2, callbacks=[early_stopping])"
      ],
      "metadata": {
        "colab": {
          "base_uri": "https://localhost:8080/"
        },
        "id": "pVnLll9ufE5g",
        "outputId": "cba4b21d-c1c1-493d-9bec-accc10516afe"
      },
      "execution_count": 19,
      "outputs": [
        {
          "output_type": "stream",
          "name": "stdout",
          "text": [
            "Epoch 1/100\n",
            "25/25 [==============================] - 1s 59ms/step - loss: 0.0118 - val_loss: 7.0599e-04\n",
            "Epoch 2/100\n",
            "25/25 [==============================] - 2s 64ms/step - loss: 0.0088 - val_loss: 8.8945e-04\n",
            "Epoch 3/100\n",
            "25/25 [==============================] - 2s 97ms/step - loss: 0.0104 - val_loss: 0.0024\n",
            "Epoch 4/100\n",
            "25/25 [==============================] - 1s 58ms/step - loss: 0.0083 - val_loss: 0.0032\n",
            "Epoch 5/100\n",
            "25/25 [==============================] - 1s 57ms/step - loss: 0.0096 - val_loss: 0.0057\n",
            "Epoch 6/100\n",
            "25/25 [==============================] - 1s 58ms/step - loss: 0.0107 - val_loss: 6.1152e-04\n",
            "Epoch 7/100\n",
            "25/25 [==============================] - 1s 58ms/step - loss: 0.0100 - val_loss: 8.1335e-04\n",
            "Epoch 8/100\n",
            "25/25 [==============================] - 1s 56ms/step - loss: 0.0076 - val_loss: 0.0060\n",
            "Epoch 9/100\n",
            "25/25 [==============================] - 1s 57ms/step - loss: 0.0112 - val_loss: 0.0046\n",
            "Epoch 10/100\n",
            "25/25 [==============================] - 2s 68ms/step - loss: 0.0109 - val_loss: 9.1589e-04\n",
            "Epoch 11/100\n",
            "25/25 [==============================] - 3s 135ms/step - loss: 0.0083 - val_loss: 9.4101e-04\n",
            "Epoch 12/100\n",
            "25/25 [==============================] - 2s 68ms/step - loss: 0.0111 - val_loss: 6.1856e-04\n",
            "Epoch 13/100\n",
            "25/25 [==============================] - 1s 59ms/step - loss: 0.0090 - val_loss: 0.0016\n",
            "Epoch 14/100\n",
            "25/25 [==============================] - 1s 56ms/step - loss: 0.0106 - val_loss: 0.0066\n",
            "Epoch 15/100\n",
            "25/25 [==============================] - 1s 57ms/step - loss: 0.0098 - val_loss: 0.0054\n",
            "Epoch 16/100\n",
            "25/25 [==============================] - 1s 58ms/step - loss: 0.0087 - val_loss: 9.6875e-04\n"
          ]
        }
      ]
    },
    {
      "cell_type": "markdown",
      "source": [
        "> Here, patience=10 means training will stop if the validation loss does not improve for 10 consecutive epochs.\n",
        "\n",
        "> Regularization Techniques: Techniques like Dropout and Batch Normalization, which are already included in our model, also help in reducing overfitting."
      ],
      "metadata": {
        "id": "__YmigCmfgeM"
      }
    },
    {
      "cell_type": "markdown",
      "source": [
        "# These are more callbacks"
      ],
      "metadata": {
        "id": "trnGMF6vfyN9"
      }
    },
    {
      "cell_type": "code",
      "source": [
        "from keras.callbacks import ModelCheckpoint, ReduceLROnPlateau, TensorBoard, CSVLogger\n",
        "\n",
        "# Callback to save the model periodically\n",
        "model_checkpoint = ModelCheckpoint('best_model.h5', save_best_only=True, monitor='val_loss')\n",
        "\n",
        "# Callback to reduce learning rate when a metric has stopped improving\n",
        "reduce_lr = ReduceLROnPlateau(monitor='val_loss', factor=0.1, patience=5)\n",
        "\n",
        "# Callback for TensorBoard\n",
        "tensorboard = TensorBoard(log_dir='./logs')\n",
        "\n",
        "# Callback to log details to a CSV file\n",
        "csv_logger = CSVLogger('training_log.csv')\n",
        "\n",
        "# Combining all callbacks\n",
        "callbacks_list = [early_stopping, model_checkpoint, reduce_lr, tensorboard, csv_logger]\n",
        "\n",
        "# Fit the model with the callbacks\n",
        "history = model.fit(X_train, y_train, epochs=100, batch_size=25, validation_split=0.2, callbacks=callbacks_list)"
      ],
      "metadata": {
        "colab": {
          "base_uri": "https://localhost:8080/"
        },
        "id": "9TtSf3cwfa5G",
        "outputId": "90b4df7b-8850-4e7b-e8b5-a73768869cb9"
      },
      "execution_count": 20,
      "outputs": [
        {
          "output_type": "stream",
          "name": "stdout",
          "text": [
            "Epoch 1/100\n",
            "25/25 [==============================] - 2s 66ms/step - loss: 0.0104 - val_loss: 7.3131e-04 - lr: 0.0010\n",
            "Epoch 2/100\n",
            " 2/25 [=>............................] - ETA: 1s - loss: 0.0043"
          ]
        },
        {
          "output_type": "stream",
          "name": "stderr",
          "text": [
            "/usr/local/lib/python3.10/dist-packages/keras/src/engine/training.py:3103: UserWarning: You are saving your model as an HDF5 file via `model.save()`. This file format is considered legacy. We recommend using instead the native Keras format, e.g. `model.save('my_model.keras')`.\n",
            "  saving_api.save_model(\n"
          ]
        },
        {
          "output_type": "stream",
          "name": "stdout",
          "text": [
            "25/25 [==============================] - 1s 58ms/step - loss: 0.0093 - val_loss: 6.2265e-04 - lr: 0.0010\n",
            "Epoch 3/100\n",
            "25/25 [==============================] - 1s 60ms/step - loss: 0.0108 - val_loss: 0.0010 - lr: 0.0010\n",
            "Epoch 4/100\n",
            "25/25 [==============================] - 1s 60ms/step - loss: 0.0106 - val_loss: 0.0359 - lr: 0.0010\n",
            "Epoch 5/100\n",
            "25/25 [==============================] - 1s 59ms/step - loss: 0.0122 - val_loss: 0.0455 - lr: 0.0010\n",
            "Epoch 6/100\n",
            "25/25 [==============================] - 1s 60ms/step - loss: 0.0111 - val_loss: 0.0015 - lr: 0.0010\n",
            "Epoch 7/100\n",
            "25/25 [==============================] - 2s 93ms/step - loss: 0.0091 - val_loss: 0.0018 - lr: 0.0010\n",
            "Epoch 8/100\n",
            "25/25 [==============================] - 2s 67ms/step - loss: 0.0093 - val_loss: 9.4210e-04 - lr: 1.0000e-04\n",
            "Epoch 9/100\n",
            "25/25 [==============================] - 1s 59ms/step - loss: 0.0097 - val_loss: 0.0011 - lr: 1.0000e-04\n",
            "Epoch 10/100\n",
            "25/25 [==============================] - 1s 57ms/step - loss: 0.0087 - val_loss: 7.0228e-04 - lr: 1.0000e-04\n",
            "Epoch 11/100\n",
            "25/25 [==============================] - 1s 59ms/step - loss: 0.0094 - val_loss: 0.0012 - lr: 1.0000e-04\n",
            "Epoch 12/100\n",
            "25/25 [==============================] - 1s 58ms/step - loss: 0.0106 - val_loss: 6.6348e-04 - lr: 1.0000e-04\n"
          ]
        }
      ]
    },
    {
      "cell_type": "markdown",
      "source": [
        "# Evaluating Model Performance\n",
        "\n",
        "After training the model, the next step is to evaluate its performance using the test set. This will give us an understanding of how well our model can generalize to new, unseen data."
      ],
      "metadata": {
        "id": "ZmmUMRkEf7UO"
      }
    },
    {
      "cell_type": "markdown",
      "source": [
        "**Evaluating with the Test Set**\n",
        "\n",
        "To evaluate the model, we first need to prepare our test data (X_test) in the same way we did for the training data. Then, we can use the model's evaluate function:"
      ],
      "metadata": {
        "id": "OOkB3NZEgD3M"
      }
    },
    {
      "cell_type": "code",
      "source": [
        "# Convert X_test and y_test to Numpy arrays if they are not already\n",
        "X_test = np.array(X_test)\n",
        "y_test = np.array(y_test)\n",
        "\n",
        "# Ensure X_test is reshaped similarly to how X_train was reshaped\n",
        "# This depends on how you preprocessed the training data\n",
        "X_test = np.reshape(X_test, (X_test.shape[0], X_test.shape[1], 1))\n",
        "\n",
        "# Now evaluate the model on the test data\n",
        "test_loss = model.evaluate(X_test, y_test)\n",
        "print(\"Test Loss: \", test_loss)"
      ],
      "metadata": {
        "colab": {
          "base_uri": "https://localhost:8080/"
        },
        "id": "qVRRK817f75d",
        "outputId": "635e4122-6fa8-479c-e34c-cf1df61a520b"
      },
      "execution_count": 21,
      "outputs": [
        {
          "output_type": "stream",
          "name": "stdout",
          "text": [
            "6/6 [==============================] - 0s 19ms/step - loss: 0.0037\n",
            "Test Loss:  0.003700563684105873\n"
          ]
        }
      ]
    },
    {
      "cell_type": "markdown",
      "source": [
        "# Performance Metrics\n",
        "\n",
        "In addition to the loss, other metrics can provide more insights into the model’s performance. For regression tasks like ours, common metrics include:\n",
        "\n",
        "1. Mean Absolute Error (MAE): This measures the average magnitude of the errors in a set of predictions, without considering their direction.\n",
        "2. Root Mean Square Error (RMSE): This is the square root of the average of squared differences between prediction and actual observation."
      ],
      "metadata": {
        "id": "fJkC7c7UgT3E"
      }
    },
    {
      "cell_type": "code",
      "source": [
        "from sklearn.metrics import mean_absolute_error, mean_squared_error\n",
        "\n",
        "# Making predictions\n",
        "y_pred = model.predict(X_test)\n",
        "\n",
        "# Calculating MAE and RMSE\n",
        "mae = mean_absolute_error(y_test, y_pred)\n",
        "rmse = mean_squared_error(y_test, y_pred, squared=False)\n",
        "\n",
        "print(\"Mean Absolute Error: \", mae)\n",
        "print(\"Root Mean Square Error: \", rmse)"
      ],
      "metadata": {
        "colab": {
          "base_uri": "https://localhost:8080/"
        },
        "id": "qiqCcD8dgUWe",
        "outputId": "aa458d32-2cfe-4b3e-aa41-97a071409231"
      },
      "execution_count": 22,
      "outputs": [
        {
          "output_type": "stream",
          "name": "stdout",
          "text": [
            "6/6 [==============================] - 2s 39ms/step\n",
            "Mean Absolute Error:  0.05764469348606553\n",
            "Root Mean Square Error:  0.06083226446398738\n"
          ]
        }
      ]
    },
    {
      "cell_type": "markdown",
      "source": [
        "These metrics will help you understand the accuracy of your model and where it needs improvement."
      ],
      "metadata": {
        "id": "q6lPO5qXhXHM"
      }
    },
    {
      "cell_type": "markdown",
      "source": [
        "> MAE measures the average magnitude of the errors in a set of predictions, without considering their direction. It’s the average over the test sample of the absolute differences between prediction and actual observation where all individual differences have equal weight. A MAE of 0.0576 means that, on average, the model’s predictions are about 0.0576 units away from the actual values."
      ],
      "metadata": {
        "id": "CXd6ge8Kg70T"
      }
    },
    {
      "cell_type": "markdown",
      "source": [
        "> RMSE is a quadratic scoring rule that also measures the average magnitude of the error. It’s the square root of the average of squared differences between prediction and actual observation. The RMSE gives a relatively high weight to large errors. This means the RMSE should be more useful when large errors are particularly undesirable. An RMSE of 0.0608 means that the model’s predictions are, on average, 0.0608 units away from the actual values when larger errors are penalized more."
      ],
      "metadata": {
        "id": "D8jQtM01hExf"
      }
    },
    {
      "cell_type": "markdown",
      "source": [
        "# Predicting the Next 4 Candles"
      ],
      "metadata": {
        "id": "GYFfDWpchdO2"
      }
    },
    {
      "cell_type": "markdown",
      "source": [
        "Having trained and evaluated our LSTM model with an attention mechanism, the final step is to utilize it for predicting the next 4 candles (days) of AAPL stock prices."
      ],
      "metadata": {
        "id": "J7RfLzs0hmsO"
      }
    },
    {
      "cell_type": "markdown",
      "source": [
        "**Making Predictions**\n",
        "\n",
        "To predict future stock prices, we need to provide the model with the most recent data points. Let’s assume we have the latest 60 days of data prepared in the same format as X_train: and we want to predict the price for the next day:"
      ],
      "metadata": {
        "id": "e_JkIAjnhsct"
      }
    },
    {
      "cell_type": "code",
      "source": [
        "import yfinance as yf\n",
        "import numpy as np\n",
        "from sklearn.preprocessing import MinMaxScaler\n",
        "\n",
        "# Fetching the latest 60 days of AAPL stock data\n",
        "data = yf.download('AAPL', period='60d', interval='1d')\n",
        "\n",
        "# Selecting the 'Close' price and converting to numpy array\n",
        "closing_prices = data['Close'].values\n",
        "\n",
        "# Scaling the data\n",
        "scaler = MinMaxScaler(feature_range=(0,1))\n",
        "scaled_data = scaler.fit_transform(closing_prices.reshape(-1,1))\n",
        "\n",
        "# Since we need the last 60 days to predict the next day, we reshape the data accordingly\n",
        "X_latest = np.array([scaled_data[-60:].reshape(60)])\n",
        "\n",
        "# Reshaping the data for the model (adding batch dimension)\n",
        "X_latest = np.reshape(X_latest, (X_latest.shape[0], X_latest.shape[1], 1))\n",
        "\n",
        "# Making predictions for the next 4 candles\n",
        "predicted_stock_price = model.predict(X_latest)\n",
        "predicted_stock_price = scaler.inverse_transform(predicted_stock_price)\n",
        "\n",
        "print(\"Predicted Stock Prices for the next day: \", predicted_stock_price)"
      ],
      "metadata": {
        "colab": {
          "base_uri": "https://localhost:8080/"
        },
        "id": "Q3TJFyN_gt6d",
        "outputId": "97e11e62-a846-4531-fb11-f1e0f4120ae4"
      },
      "execution_count": 23,
      "outputs": [
        {
          "output_type": "stream",
          "name": "stderr",
          "text": [
            "\r[*********************100%%**********************]  1 of 1 completed"
          ]
        },
        {
          "output_type": "stream",
          "name": "stdout",
          "text": [
            "1/1 [==============================] - 0s 54ms/step\n",
            "Predicted Stock Prices for the next 4 days:  [[169.99239]]\n"
          ]
        },
        {
          "output_type": "stream",
          "name": "stderr",
          "text": [
            "\n"
          ]
        }
      ]
    },
    {
      "cell_type": "markdown",
      "source": [
        "Let’s predict the price for the next 4 days:"
      ],
      "metadata": {
        "id": "AfeDZkjVir20"
      }
    },
    {
      "cell_type": "code",
      "source": [
        "import yfinance as yf\n",
        "import numpy as np\n",
        "from sklearn.preprocessing import MinMaxScaler\n",
        "\n",
        "# Fetch the latest 60 days of AAPL stock data\n",
        "data = yf.download('AAPL', period='60d', interval='1d')\n",
        "\n",
        "# Select 'Close' price and scale it\n",
        "closing_prices = data['Close'].values.reshape(-1, 1)\n",
        "scaler = MinMaxScaler(feature_range=(0, 1))\n",
        "scaled_data = scaler.fit_transform(closing_prices)\n",
        "\n",
        "# Predict the next 4 days iteratively\n",
        "predicted_prices = []\n",
        "current_batch = scaled_data[-60:].reshape(1, 60, 1)  # Most recent 60 days\n",
        "\n",
        "for i in range(4):  # Predicting 4 days\n",
        "    # Get the prediction (next day)\n",
        "    next_prediction = model.predict(current_batch)\n",
        "\n",
        "    # Reshape the prediction to fit the batch dimension\n",
        "    next_prediction_reshaped = next_prediction.reshape(1, 1, 1)\n",
        "\n",
        "    # Append the prediction to the batch used for predicting\n",
        "    current_batch = np.append(current_batch[:, 1:, :], next_prediction_reshaped, axis=1)\n",
        "\n",
        "    # Inverse transform the prediction to the original price scale\n",
        "    predicted_prices.append(scaler.inverse_transform(next_prediction)[0, 0])\n",
        "\n",
        "print(\"Predicted Stock Prices for the next 4 days: \", predicted_prices)"
      ],
      "metadata": {
        "colab": {
          "base_uri": "https://localhost:8080/"
        },
        "id": "_XoSXHaRiKpT",
        "outputId": "570e5c29-e829-440f-d193-b565139a8995"
      },
      "execution_count": 24,
      "outputs": [
        {
          "output_type": "stream",
          "name": "stderr",
          "text": [
            "\r[*********************100%%**********************]  1 of 1 completed"
          ]
        },
        {
          "output_type": "stream",
          "name": "stdout",
          "text": [
            "1/1 [==============================] - 0s 45ms/step\n"
          ]
        },
        {
          "output_type": "stream",
          "name": "stderr",
          "text": [
            "\n"
          ]
        },
        {
          "output_type": "stream",
          "name": "stdout",
          "text": [
            "1/1 [==============================] - 0s 43ms/step\n",
            "1/1 [==============================] - 0s 46ms/step\n",
            "1/1 [==============================] - 0s 43ms/step\n",
            "Predicted Stock Prices for the next 4 days:  [169.99239, 171.27216, 172.43987, 173.26305]\n"
          ]
        }
      ]
    },
    {
      "cell_type": "markdown",
      "source": [
        "# Visualization of Predictions\n",
        "\n",
        "Comparing the predicted values with actual stock prices visually can be very insightful. Below is the code to plot the predicted stock prices against the actual data:"
      ],
      "metadata": {
        "id": "bS9aTTbgivnh"
      }
    },
    {
      "cell_type": "code",
      "source": [
        "!pip install mplfinance -qqq\n",
        "import pandas as pd\n",
        "import mplfinance as mpf\n",
        "import matplotlib.dates as mpl_dates\n",
        "import matplotlib.pyplot as plt\n",
        "\n",
        "# Assuming 'data' is your DataFrame with the fetched AAPL stock data\n",
        "# Make sure it contains Open, High, Low, Close, and Volume columns\n",
        "\n",
        "# Creating a list of dates for the predictions\n",
        "last_date = data.index[-1]\n",
        "next_day = last_date + pd.Timedelta(days=1)\n",
        "prediction_dates = pd.date_range(start=next_day, periods=4)\n",
        "\n",
        "# Assuming 'predicted_prices' is your list of predicted prices for the next 4 days\n",
        "predictions_df = pd.DataFrame(index=prediction_dates, data=predicted_prices, columns=['Close'])\n",
        "\n",
        "# Plotting the actual data with mplfinance\n",
        "mpf.plot(data, type='candle', style='charles', volume=True)\n",
        "\n",
        "# Overlaying the predicted data\n",
        "plt.figure(figsize=(10,6))\n",
        "plt.plot(predictions_df.index, predictions_df['Close'], linestyle='dashed', marker='o', color='red')\n",
        "\n",
        "plt.title(\"AAPL Stock Price with Predicted Next 4 Days\")\n",
        "plt.show()"
      ],
      "metadata": {
        "colab": {
          "base_uri": "https://localhost:8080/",
          "height": 1000
        },
        "id": "GghMwRt5itvM",
        "outputId": "904698c7-7fed-427b-de9a-8b791df08137"
      },
      "execution_count": 25,
      "outputs": [
        {
          "output_type": "stream",
          "name": "stdout",
          "text": [
            "\u001b[?25l     \u001b[90m━━━━━━━━━━━━━━━━━━━━━━━━━━━━━━━━━━━━━━━━\u001b[0m \u001b[32m0.0/75.0 kB\u001b[0m \u001b[31m?\u001b[0m eta \u001b[36m-:--:--\u001b[0m\r\u001b[2K     \u001b[91m━━━━━━━━━━━━━━━━━━━━━━━━━━━━━━━━━━━━━━\u001b[0m\u001b[90m╺\u001b[0m\u001b[90m━\u001b[0m \u001b[32m71.7/75.0 kB\u001b[0m \u001b[31m2.5 MB/s\u001b[0m eta \u001b[36m0:00:01\u001b[0m\r\u001b[2K     \u001b[90m━━━━━━━━━━━━━━━━━━━━━━━━━━━━━━━━━━━━━━━━\u001b[0m \u001b[32m75.0/75.0 kB\u001b[0m \u001b[31m1.6 MB/s\u001b[0m eta \u001b[36m0:00:00\u001b[0m\n",
            "\u001b[?25h"
          ]
        },
        {
          "output_type": "display_data",
          "data": {
            "text/plain": [
              "<Figure size 800x575 with 4 Axes>"
            ],
            "image/png": "[encoded data removed]"
          },
          "metadata": {}
        },
        {
          "output_type": "display_data",
          "data": {
            "text/plain": [
              "<Figure size 1000x600 with 1 Axes>"
            ],
            "image/png": "[encoded data removed]"
          },
          "metadata": {}
        }
      ]
    },
    {
      "cell_type": "markdown",
      "source": [
        "# Final Visual for Predictions:"
      ],
      "metadata": {
        "id": "X1tgW7b7jJF5"
      }
    },
    {
      "cell_type": "code",
      "source": [
        "import pandas as pd\n",
        "import mplfinance as mpf\n",
        "import matplotlib.dates as mpl_dates\n",
        "import matplotlib.pyplot as plt\n",
        "\n",
        "# Fetch the latest 60 days of AAPL stock data\n",
        "data = yf.download('AAPL', period='64d', interval='1d') # Fetch 64 days to display last 60 days in the chart\n",
        "\n",
        "# Select 'Close' price and scale it\n",
        "closing_prices = data['Close'].values.reshape(-1, 1)\n",
        "scaler = MinMaxScaler(feature_range=(0, 1))\n",
        "scaled_data = scaler.fit_transform(closing_prices)\n",
        "\n",
        "# Predict the next 4 days iteratively\n",
        "predicted_prices = []\n",
        "current_batch = scaled_data[-60:].reshape(1, 60, 1)  # Most recent 60 days\n",
        "\n",
        "for i in range(4):  # Predicting 4 days\n",
        "    next_prediction = model.predict(current_batch)\n",
        "    next_prediction_reshaped = next_prediction.reshape(1, 1, 1)\n",
        "    current_batch = np.append(current_batch[:, 1:, :], next_prediction_reshaped, axis=1)\n",
        "    predicted_prices.append(scaler.inverse_transform(next_prediction)[0, 0])\n",
        "\n",
        "# Creating a list of dates for the predictions\n",
        "last_date = data.index[-1]\n",
        "next_day = last_date + pd.Timedelta(days=1)\n",
        "prediction_dates = pd.date_range(start=next_day, periods=4)\n",
        "\n",
        "# Adding predictions to the DataFrame\n",
        "predicted_data = pd.DataFrame(index=prediction_dates, data=predicted_prices, columns=['Close'])\n",
        "\n",
        "# Combining both actual and predicted data\n",
        "combined_data = pd.concat([data['Close'], predicted_data['Close']])\n",
        "combined_data = combined_data[-64:] # Last 60 days of actual data + 4 days of predictions\n",
        "\n",
        "# Plotting the actual data\n",
        "plt.figure(figsize=(10,6))\n",
        "plt.plot(data.index[-60:], data['Close'][-60:], linestyle='-', marker='o', color='blue', label='Actual Data')\n",
        "\n",
        "# Plotting the predicted data\n",
        "plt.plot(prediction_dates, predicted_prices, linestyle='-', marker='o', color='red', label='Predicted Data')\n",
        "\n",
        "plt.title(\"AAPL Stock Price: Last 60 Days and Next 4 Days Predicted\")\n",
        "plt.xlabel('Date')\n",
        "plt.ylabel('Price')\n",
        "plt.legend()\n",
        "plt.show()"
      ],
      "metadata": {
        "colab": {
          "base_uri": "https://localhost:8080/",
          "height": 655
        },
        "id": "Ys-BZiaci7lq",
        "outputId": "b3e2571f-1b21-4441-dc67-bdcceb298cfa"
      },
      "execution_count": 26,
      "outputs": [
        {
          "output_type": "stream",
          "name": "stderr",
          "text": [
            "\r[*********************100%%**********************]  1 of 1 completed"
          ]
        },
        {
          "output_type": "stream",
          "name": "stdout",
          "text": [
            "1/1 [==============================] - 0s 48ms/step\n"
          ]
        },
        {
          "output_type": "stream",
          "name": "stderr",
          "text": [
            "\n"
          ]
        },
        {
          "output_type": "stream",
          "name": "stdout",
          "text": [
            "1/1 [==============================] - 0s 46ms/step\n",
            "1/1 [==============================] - 0s 72ms/step\n",
            "1/1 [==============================] - 0s 43ms/step\n"
          ]
        },
        {
          "output_type": "display_data",
          "data": {
            "text/plain": [
              "<Figure size 1000x600 with 1 Axes>"
            ],
            "image/png": "[encoded data removed]"
          },
          "metadata": {}
        }
      ]
    },
    {
      "cell_type": "markdown",
      "source": [
        "# Compute from any date:"
      ],
      "metadata": {
        "id": "OdDhsE9VkO5E"
      }
    },
    {
      "cell_type": "code",
      "source": [
        "import yfinance as yf\n",
        "import numpy as np\n",
        "import pandas as pd\n",
        "from sklearn.preprocessing import MinMaxScaler\n",
        "from datetime import datetime, timedelta\n",
        "\n",
        "\n",
        "def predict_stock_price(input_date):\n",
        "    # Check if the input date is a valid date format\n",
        "    try:\n",
        "        input_date = pd.to_datetime(input_date)\n",
        "    except ValueError:\n",
        "        print(\"Invalid Date Format. Please enter date in YYYY-MM-DD format.\")\n",
        "        return\n",
        "\n",
        "    # Fetch data from yfinance\n",
        "    end_date = input_date\n",
        "    start_date = input_date - timedelta(days=90)  # Fetch more days to ensure we have 60 trading days\n",
        "    data = yf.download('AAPL', start=start_date, end=end_date)\n",
        "\n",
        "    if len(data) < 60:\n",
        "        print(\"Not enough historical data to make a prediction. Try an earlier date.\")\n",
        "        return\n",
        "\n",
        "    # Prepare the data\n",
        "    closing_prices = data['Close'].values[-60:]  # Last 60 days\n",
        "    scaler = MinMaxScaler(feature_range=(0, 1))\n",
        "    scaled_data = scaler.fit_transform(closing_prices.reshape(-1, 1))\n",
        "\n",
        "    # Make predictions\n",
        "    predicted_prices = []\n",
        "    current_batch = scaled_data.reshape(1, 60, 1)\n",
        "\n",
        "    for i in range(4):  # Predicting 4 days\n",
        "        next_prediction = model.predict(current_batch)\n",
        "        next_prediction_reshaped = next_prediction.reshape(1, 1, 1)\n",
        "        current_batch = np.append(current_batch[:, 1:, :], next_prediction_reshaped, axis=1)\n",
        "        predicted_prices.append(scaler.inverse_transform(next_prediction)[0, 0])\n",
        "\n",
        "    # Output the predictions\n",
        "    for i, price in enumerate(predicted_prices, 1):\n",
        "        print(f\"Day {i} prediction: {price}\")\n",
        "\n",
        "# Example use\n",
        "user_input = input(\"Enter a date (YYYY-MM-DD) to predict AAPL stock for the next 4 days: \")\n",
        "predict_stock_price(user_input)"
      ],
      "metadata": {
        "colab": {
          "base_uri": "https://localhost:8080/"
        },
        "id": "eP-4TdEXjP3C",
        "outputId": "711f1541-6958-40b4-cdd5-e9617ef72152"
      },
      "execution_count": 27,
      "outputs": [
        {
          "name": "stdout",
          "output_type": "stream",
          "text": [
            "Enter a date (YYYY-MM-DD) to predict AAPL stock for the next 4 days: 2024-04-23\n"
          ]
        },
        {
          "output_type": "stream",
          "name": "stderr",
          "text": [
            "\r[*********************100%%**********************]  1 of 1 completed"
          ]
        },
        {
          "output_type": "stream",
          "name": "stdout",
          "text": [
            "1/1 [==============================] - 0s 29ms/step\n",
            "1/1 [==============================] - 0s 29ms/step\n"
          ]
        },
        {
          "output_type": "stream",
          "name": "stderr",
          "text": [
            "\n"
          ]
        },
        {
          "output_type": "stream",
          "name": "stdout",
          "text": [
            "1/1 [==============================] - 0s 31ms/step\n",
            "1/1 [==============================] - 0s 32ms/step\n",
            "Day 1 prediction: 169.9923858642578\n",
            "Day 2 prediction: 171.27215576171875\n",
            "Day 3 prediction: 172.4398651123047\n",
            "Day 4 prediction: 173.26304626464844\n"
          ]
        }
      ]
    },
    {
      "cell_type": "markdown",
      "source": [
        "Resource: [Advanced Stock Pattern Prediction using LSTM with the Attention Mechanism in TensorFlow: A step by step Guide with Apple Inc. (AAPL) Data](https://drlee.io/advanced-stock-pattern-prediction-using-lstm-with-the-attention-mechanism-in-tensorflow-a-step-by-143a2e8b0e95)"
      ],
      "metadata": {
        "id": "Y2nCG7WapZCf"
      }
    }
  ]
}